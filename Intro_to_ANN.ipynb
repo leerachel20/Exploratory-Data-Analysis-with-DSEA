{
  "nbformat": 4,
  "nbformat_minor": 0,
  "metadata": {
    "colab": {
      "name": "Intro to ANN.ipynb",
      "provenance": [],
      "authorship_tag": "ABX9TyPu9prlmboL2nXIN2cald7T",
      "include_colab_link": true
    },
    "kernelspec": {
      "name": "python3",
      "display_name": "Python 3"
    },
    "language_info": {
      "name": "python"
    }
  },
  "cells": [
    {
      "cell_type": "markdown",
      "metadata": {
        "id": "view-in-github",
        "colab_type": "text"
      },
      "source": [
        "<a href=\"https://colab.research.google.com/github/leerachel20/Exploratory-Data-Analysis-with-DSEA/blob/main/Intro_to_ANN.ipynb\" target=\"_parent\"><img src=\"https://colab.research.google.com/assets/colab-badge.svg\" alt=\"Open In Colab\"/></a>"
      ]
    },
    {
      "cell_type": "markdown",
      "source": [
        "**Building A Simple Neural Network with Keras**"
      ],
      "metadata": {
        "id": "VxFLsHoM_2yJ"
      }
    },
    {
      "cell_type": "markdown",
      "source": [
        "In this brief tutorial, we are going to train a simple neural network with keras to predict the onset of diabetes.\n",
        "\n",
        "The data comes from a very popular standard machine learning dataset Pima Indians onset of diabetes in UCI Machine Learning repository. It describes patient medical record data for Pima Indians and whether they had an onset of diabetes within five years.\n",
        "\n",
        "You can read the dataset descriptions here: https://raw.githubusercontent.com/jbrownlee/Datasets/master/pima-indians-diabetes.names"
      ],
      "metadata": {
        "id": "XPG1HbbA_ybv"
      }
    },
    {
      "cell_type": "code",
      "execution_count": 1,
      "metadata": {
        "id": "BgadGAtD-SSu"
      },
      "outputs": [],
      "source": [
        "import numpy as np"
      ]
    },
    {
      "cell_type": "code",
      "source": [
        "dataset = np.loadtxt('https://raw.githubusercontent.com/jbrownlee/Datasets/master/pima-indians-diabetes.data.csv', delimiter=',')"
      ],
      "metadata": {
        "id": "05P1y1hE-jlK"
      },
      "execution_count": 2,
      "outputs": []
    },
    {
      "cell_type": "markdown",
      "source": [
        "To simplify the process, we are not going to worry about the meaning of the variables. Just split them into Xs (i.e., the first nine columns) and Ys (i.e., the last column). This is a dataset of 9 columns and 768 rows"
      ],
      "metadata": {
        "id": "lFsg2Hyk-o28"
      }
    },
    {
      "cell_type": "code",
      "source": [
        "X = dataset[: ,0:8]\n",
        "y = dataset[:,8]"
      ],
      "metadata": {
        "id": "5FP0T7e5-ppR"
      },
      "execution_count": 3,
      "outputs": []
    },
    {
      "cell_type": "markdown",
      "source": [
        "Next we are going to create a simple fully-connected neural network. Recall the parameters and the hyperparameters we need to decide on:\n",
        "\n",
        "1. Main parameters (in the pre-activation functions): weights and biases: We don't really need to worry about these right now. ANN will learn these as long as 3 and 4 are set.\n",
        "2. Choice of activation function: sigmoid, tanh, relu, leaky relu are all common choices.\n",
        "3. Number of hidden layers: Let's say two hidden layers and an output layer\n",
        "4. Number of hidden units: Let's say 12 and 8.\n",
        "5. Learning rate: The default learning rate is 0.001\n",
        "6. Number of iterations: Let's try 150 to start with.\n",
        "\n",
        "Before we do anything, let's import Keras. You migh need to install it if you have not done so: conda install -c conda-forge keras\n",
        "\n",
        "You will need Sequential, a class allow you to build a linear stack of layers and Dense to build fully connected nodes."
      ],
      "metadata": {
        "id": "3xwQzgl0-rrb"
      }
    },
    {
      "cell_type": "code",
      "source": [
        "from keras.models import Sequential\n",
        "from keras.layers import Dense"
      ],
      "metadata": {
        "id": "vfu66e0Z-5r4"
      },
      "execution_count": 4,
      "outputs": []
    },
    {
      "cell_type": "code",
      "source": [
        "# define the keras model\n",
        "model = Sequential()\n",
        "model.add(Dense(12, input_dim=8, activation='relu'))\n",
        "model.add(Dense(8, activation='relu'))\n",
        "model.add(Dense(1, activation='sigmoid'))\n",
        "\n",
        "\n",
        "# compile the keras model\n",
        "model.compile(loss='binary_crossentropy', metrics=['accuracy'])"
      ],
      "metadata": {
        "id": "VNb7V6Yb-_PD"
      },
      "execution_count": 5,
      "outputs": []
    },
    {
      "cell_type": "markdown",
      "source": [
        "Once we have created our model, you can start to train the data with Xs and the labels."
      ],
      "metadata": {
        "id": "0cROImjs_EHP"
      }
    },
    {
      "cell_type": "code",
      "source": [
        "# You can turn on the verbose in case you want to see all the details\n",
        "history = model.fit(X, y, epochs=150, verbose=0)\n",
        "# Print out the result from the final iteration and accuracy.\n",
        "_, accuracy = model.evaluate(X, y)\n",
        "print('Accuracy: %.2f' % (accuracy*100))"
      ],
      "metadata": {
        "colab": {
          "base_uri": "https://localhost:8080/"
        },
        "id": "3p6uV33l_EkO",
        "outputId": "fbca0a05-b36a-4296-e996-2def900052f1"
      },
      "execution_count": 6,
      "outputs": [
        {
          "output_type": "stream",
          "name": "stdout",
          "text": [
            "24/24 [==============================] - 0s 3ms/step - loss: 0.5101 - accuracy: 0.7565\n",
            "Accuracy: 75.65\n"
          ]
        }
      ]
    },
    {
      "cell_type": "markdown",
      "source": [
        "Let's print out two things (a) the history of the accuracy per epoch (we hope it is going to increase over time), and (b) the history of the loss per epoch (we hope it will drop over time)."
      ],
      "metadata": {
        "id": "Bf8lu2kF_HtZ"
      }
    },
    {
      "cell_type": "code",
      "source": [
        "from matplotlib import pyplot as plt\n",
        "plt.plot(history.history['accuracy'])\n",
        "plt.title('model accuracy')\n",
        "plt.ylabel('accuracy')\n",
        "plt.xlabel('epoch')\n",
        "plt.show()"
      ],
      "metadata": {
        "colab": {
          "base_uri": "https://localhost:8080/",
          "height": 295
        },
        "id": "6PCO1gkW_J0-",
        "outputId": "f94982f3-b220-4ae7-b17d-c52d64ef0e33"
      },
      "execution_count": 7,
      "outputs": [
        {
          "output_type": "display_data",
          "data": {
            "text/plain": [
              "<Figure size 432x288 with 1 Axes>"
            ],
            "image/png": "[encoded data removed]"
          },
          "metadata": {
            "needs_background": "light"
          }
        }
      ]
    },
    {
      "cell_type": "code",
      "source": [
        "plt.plot(history.history['loss'])\n",
        "plt.title('model loss')\n",
        "plt.ylabel('loss')\n",
        "plt.xlabel('epoch')\n",
        "plt.show()"
      ],
      "metadata": {
        "colab": {
          "base_uri": "https://localhost:8080/",
          "height": 295
        },
        "id": "K6tnfHbM_Lac",
        "outputId": "e97c6364-dac1-4396-d297-31846ce0d5bd"
      },
      "execution_count": 8,
      "outputs": [
        {
          "output_type": "display_data",
          "data": {
            "text/plain": [
              "<Figure size 432x288 with 1 Axes>"
            ],
            "image/png": "[encoded data removed]"
          },
          "metadata": {
            "needs_background": "light"
          }
        }
      ]
    },
    {
      "cell_type": "markdown",
      "source": [
        "Voila! You just built an neural network that has about 70% of accuracy with only about 20 lines of code."
      ],
      "metadata": {
        "id": "xTem8f40_t5g"
      }
    }
  ]
}